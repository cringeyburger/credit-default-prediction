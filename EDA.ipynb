{
 "cells": [
  {
   "cell_type": "code",
   "execution_count": 2,
   "metadata": {},
   "outputs": [],
   "source": [
    "import numpy as np \n",
    "import pandas as pd\n",
    "import matplotlib.pyplot as plt\n",
    "import seaborn as sns\n",
    "\n",
    "# turn off warning\n",
    "import warnings\n",
    "warnings.filterwarnings(\"ignore\")"
   ]
  },
  {
   "cell_type": "code",
   "execution_count": 3,
   "metadata": {},
   "outputs": [
    {
     "name": "stdout",
     "output_type": "stream",
     "text": [
      "Full dataset has 96806 rows and 1216 columns\n"
     ]
    }
   ],
   "source": [
    "df = pd.read_csv(\"data/raw/dev_data.csv\")\n",
    "print(\"Full dataset has\", df.shape[0], \"rows and\", df.shape[1], \"columns\")"
   ]
  },
  {
   "cell_type": "markdown",
   "metadata": {},
   "source": [
    "# Data exploration"
   ]
  },
  {
   "cell_type": "code",
   "execution_count": 4,
   "metadata": {},
   "outputs": [
    {
     "data": {
      "text/html": [
       "<div>\n",
       "<style scoped>\n",
       "    .dataframe tbody tr th:only-of-type {\n",
       "        vertical-align: middle;\n",
       "    }\n",
       "\n",
       "    .dataframe tbody tr th {\n",
       "        vertical-align: top;\n",
       "    }\n",
       "\n",
       "    .dataframe thead th {\n",
       "        text-align: right;\n",
       "    }\n",
       "</style>\n",
       "<table border=\"1\" class=\"dataframe\">\n",
       "  <thead>\n",
       "    <tr style=\"text-align: right;\">\n",
       "      <th></th>\n",
       "      <th>account_number</th>\n",
       "      <th>bad_flag</th>\n",
       "      <th>onus_attribute_1</th>\n",
       "      <th>transaction_attribute_1</th>\n",
       "      <th>transaction_attribute_2</th>\n",
       "      <th>transaction_attribute_3</th>\n",
       "      <th>transaction_attribute_4</th>\n",
       "      <th>transaction_attribute_5</th>\n",
       "      <th>transaction_attribute_6</th>\n",
       "      <th>transaction_attribute_7</th>\n",
       "      <th>...</th>\n",
       "      <th>bureau_enquiry_47</th>\n",
       "      <th>bureau_enquiry_48</th>\n",
       "      <th>bureau_enquiry_49</th>\n",
       "      <th>bureau_enquiry_50</th>\n",
       "      <th>onus_attribute_43</th>\n",
       "      <th>onus_attribute_44</th>\n",
       "      <th>onus_attribute_45</th>\n",
       "      <th>onus_attribute_46</th>\n",
       "      <th>onus_attribute_47</th>\n",
       "      <th>onus_attribute_48</th>\n",
       "    </tr>\n",
       "  </thead>\n",
       "  <tbody>\n",
       "    <tr>\n",
       "      <th>0</th>\n",
       "      <td>1</td>\n",
       "      <td>0</td>\n",
       "      <td>NaN</td>\n",
       "      <td>NaN</td>\n",
       "      <td>NaN</td>\n",
       "      <td>NaN</td>\n",
       "      <td>NaN</td>\n",
       "      <td>NaN</td>\n",
       "      <td>NaN</td>\n",
       "      <td>NaN</td>\n",
       "      <td>...</td>\n",
       "      <td>0.0</td>\n",
       "      <td>0.0</td>\n",
       "      <td>0.0</td>\n",
       "      <td>1.0</td>\n",
       "      <td>NaN</td>\n",
       "      <td>NaN</td>\n",
       "      <td>NaN</td>\n",
       "      <td>NaN</td>\n",
       "      <td>NaN</td>\n",
       "      <td>NaN</td>\n",
       "    </tr>\n",
       "    <tr>\n",
       "      <th>1</th>\n",
       "      <td>2</td>\n",
       "      <td>0</td>\n",
       "      <td>221000.0</td>\n",
       "      <td>0.0</td>\n",
       "      <td>0.0</td>\n",
       "      <td>0.0</td>\n",
       "      <td>0.0</td>\n",
       "      <td>0.0</td>\n",
       "      <td>0.0</td>\n",
       "      <td>0.0</td>\n",
       "      <td>...</td>\n",
       "      <td>0.0</td>\n",
       "      <td>0.0</td>\n",
       "      <td>2.0</td>\n",
       "      <td>3.0</td>\n",
       "      <td>0.0</td>\n",
       "      <td>0.0</td>\n",
       "      <td>0.0</td>\n",
       "      <td>0.0</td>\n",
       "      <td>0.0</td>\n",
       "      <td>0.0</td>\n",
       "    </tr>\n",
       "    <tr>\n",
       "      <th>2</th>\n",
       "      <td>3</td>\n",
       "      <td>0</td>\n",
       "      <td>25000.0</td>\n",
       "      <td>0.0</td>\n",
       "      <td>0.0</td>\n",
       "      <td>0.0</td>\n",
       "      <td>0.0</td>\n",
       "      <td>0.0</td>\n",
       "      <td>0.0</td>\n",
       "      <td>0.0</td>\n",
       "      <td>...</td>\n",
       "      <td>0.0</td>\n",
       "      <td>0.0</td>\n",
       "      <td>0.0</td>\n",
       "      <td>8.0</td>\n",
       "      <td>NaN</td>\n",
       "      <td>NaN</td>\n",
       "      <td>NaN</td>\n",
       "      <td>NaN</td>\n",
       "      <td>NaN</td>\n",
       "      <td>NaN</td>\n",
       "    </tr>\n",
       "    <tr>\n",
       "      <th>3</th>\n",
       "      <td>4</td>\n",
       "      <td>0</td>\n",
       "      <td>86000.0</td>\n",
       "      <td>0.0</td>\n",
       "      <td>0.0</td>\n",
       "      <td>0.0</td>\n",
       "      <td>0.0</td>\n",
       "      <td>0.0</td>\n",
       "      <td>0.0</td>\n",
       "      <td>0.0</td>\n",
       "      <td>...</td>\n",
       "      <td>0.0</td>\n",
       "      <td>0.0</td>\n",
       "      <td>0.0</td>\n",
       "      <td>30.0</td>\n",
       "      <td>NaN</td>\n",
       "      <td>NaN</td>\n",
       "      <td>NaN</td>\n",
       "      <td>NaN</td>\n",
       "      <td>NaN</td>\n",
       "      <td>NaN</td>\n",
       "    </tr>\n",
       "    <tr>\n",
       "      <th>4</th>\n",
       "      <td>5</td>\n",
       "      <td>0</td>\n",
       "      <td>215000.0</td>\n",
       "      <td>0.0</td>\n",
       "      <td>0.0</td>\n",
       "      <td>0.0</td>\n",
       "      <td>0.0</td>\n",
       "      <td>0.0</td>\n",
       "      <td>0.0</td>\n",
       "      <td>0.0</td>\n",
       "      <td>...</td>\n",
       "      <td>0.0</td>\n",
       "      <td>0.0</td>\n",
       "      <td>0.0</td>\n",
       "      <td>1.0</td>\n",
       "      <td>NaN</td>\n",
       "      <td>NaN</td>\n",
       "      <td>NaN</td>\n",
       "      <td>NaN</td>\n",
       "      <td>NaN</td>\n",
       "      <td>NaN</td>\n",
       "    </tr>\n",
       "  </tbody>\n",
       "</table>\n",
       "<p>5 rows × 1216 columns</p>\n",
       "</div>"
      ],
      "text/plain": [
       "   account_number  bad_flag  onus_attribute_1  transaction_attribute_1  \\\n",
       "0               1         0               NaN                      NaN   \n",
       "1               2         0          221000.0                      0.0   \n",
       "2               3         0           25000.0                      0.0   \n",
       "3               4         0           86000.0                      0.0   \n",
       "4               5         0          215000.0                      0.0   \n",
       "\n",
       "   transaction_attribute_2  transaction_attribute_3  transaction_attribute_4  \\\n",
       "0                      NaN                      NaN                      NaN   \n",
       "1                      0.0                      0.0                      0.0   \n",
       "2                      0.0                      0.0                      0.0   \n",
       "3                      0.0                      0.0                      0.0   \n",
       "4                      0.0                      0.0                      0.0   \n",
       "\n",
       "   transaction_attribute_5  transaction_attribute_6  transaction_attribute_7  \\\n",
       "0                      NaN                      NaN                      NaN   \n",
       "1                      0.0                      0.0                      0.0   \n",
       "2                      0.0                      0.0                      0.0   \n",
       "3                      0.0                      0.0                      0.0   \n",
       "4                      0.0                      0.0                      0.0   \n",
       "\n",
       "   ...  bureau_enquiry_47  bureau_enquiry_48  bureau_enquiry_49  \\\n",
       "0  ...                0.0                0.0                0.0   \n",
       "1  ...                0.0                0.0                2.0   \n",
       "2  ...                0.0                0.0                0.0   \n",
       "3  ...                0.0                0.0                0.0   \n",
       "4  ...                0.0                0.0                0.0   \n",
       "\n",
       "   bureau_enquiry_50  onus_attribute_43  onus_attribute_44  onus_attribute_45  \\\n",
       "0                1.0                NaN                NaN                NaN   \n",
       "1                3.0                0.0                0.0                0.0   \n",
       "2                8.0                NaN                NaN                NaN   \n",
       "3               30.0                NaN                NaN                NaN   \n",
       "4                1.0                NaN                NaN                NaN   \n",
       "\n",
       "   onus_attribute_46  onus_attribute_47  onus_attribute_48  \n",
       "0                NaN                NaN                NaN  \n",
       "1                0.0                0.0                0.0  \n",
       "2                NaN                NaN                NaN  \n",
       "3                NaN                NaN                NaN  \n",
       "4                NaN                NaN                NaN  \n",
       "\n",
       "[5 rows x 1216 columns]"
      ]
     },
     "execution_count": 4,
     "metadata": {},
     "output_type": "execute_result"
    }
   ],
   "source": [
    "df.head()"
   ]
  },
  {
   "cell_type": "code",
   "execution_count": 5,
   "metadata": {},
   "outputs": [
    {
     "name": "stdout",
     "output_type": "stream",
     "text": [
      "Percentage of missing data: 16.46%\n"
     ]
    }
   ],
   "source": [
    "total_missing = df.isnull().sum().sum()\n",
    "total_elements = df.size\n",
    "\n",
    "percent_missing = (total_missing / total_elements) * 100\n",
    "\n",
    "print(\"Percentage of missing data: {:.2f}%\".format(percent_missing))"
   ]
  },
  {
   "cell_type": "markdown",
   "metadata": {},
   "source": [
    "As we can see, thats a lot of missing data. Either need to impute the dataset, or remove unnecessary features, or both.\n",
    "\n",
    "Apart from that, we need to check whether the dataset has columns which are all empty, sum is zero, or have no distict values.\n",
    "We need to drop those."
   ]
  },
  {
   "cell_type": "code",
   "execution_count": 6,
   "metadata": {},
   "outputs": [
    {
     "name": "stdout",
     "output_type": "stream",
     "text": [
      "No Defaults: 98.58 % of the dataset\n",
      "Defaults: 1.42 % of the dataset\n"
     ]
    },
    {
     "data": {
      "image/png": "[encoded data removed]",
      "text/plain": [
       "<Figure size 800x500 with 1 Axes>"
      ]
     },
     "metadata": {},
     "output_type": "display_data"
    }
   ],
   "source": [
    "no_defaults_percentage = round(df[\"bad_flag\"].value_counts()[0] / len(df) * 100, 2)\n",
    "defaults_percentage = round(df[\"bad_flag\"].value_counts()[1] / len(df) * 100, 2)\n",
    "\n",
    "print(\"No Defaults:\", no_defaults_percentage, \"% of the dataset\")\n",
    "print(\"Defaults:\", defaults_percentage, \"% of the dataset\")\n",
    "\n",
    "plt.figure(figsize=(8, 5))\n",
    "sns.countplot(x=\"bad_flag\", data=df)\n",
    "plt.title(\"Class Distributions \\n 0: No Defaults 1: Defaults\")\n",
    "plt.xlabel(\"Bad Flag\")\n",
    "plt.ylabel(\"Count\")\n",
    "plt.xticks(\n",
    "    ticks=[0, 1], labels=[\"No Defaults\", \"Defaults\"]\n",
    ")\n",
    "plt.show()"
   ]
  },
  {
   "cell_type": "markdown",
   "metadata": {},
   "source": [
    "Clearly, the dataset is heavily imbalanced. We can consider resampling techniques."
   ]
  },
  {
   "cell_type": "code",
   "execution_count": 7,
   "metadata": {},
   "outputs": [
    {
     "data": {
      "image/png": "[encoded data removed]",
      "text/plain": [
       "<Figure size 800x500 with 1 Axes>"
      ]
     },
     "metadata": {},
     "output_type": "display_data"
    },
    {
     "name": "stdout",
     "output_type": "stream",
     "text": [
      "Number of outliers in transaction_attribute_1: 14\n"
     ]
    }
   ],
   "source": [
    "column_name = \"transaction_attribute_1\"  # Replace with the column you want to analyze\n",
    "\n",
    "# Plot a boxplot to visualize outliers\n",
    "plt.figure(figsize=(8, 5))\n",
    "sns.boxplot(x=df[column_name])\n",
    "plt.title(f\"Boxplot for {column_name}\")\n",
    "plt.xlabel(column_name)\n",
    "plt.show()\n",
    "\n",
    "# Calculate Z-scores for the column\n",
    "z_scores = (df[column_name] - df[column_name].mean()) / df[column_name].std()\n",
    "\n",
    "# Identify outliers (Z-score > 3 or < -3)\n",
    "outliers = df[np.abs(z_scores) > 3]\n",
    "\n",
    "# Print the number of outliers and display them\n",
    "print(f\"Number of outliers in {column_name}: {len(outliers)}\")"
   ]
  },
  {
   "cell_type": "markdown",
   "metadata": {},
   "source": [
    "The dataset has outliers. We may need to clip them, though we need to consider that removing them may cause loss of information."
   ]
  },
  {
   "cell_type": "markdown",
   "metadata": {},
   "source": [
    "employing a power transformer when using LightGBM enhances feature distributions, mitigates outlier effects, facilitates gradient boosting processes, aids in dimensionality reduction, and improves integration with other models. These factors collectively contribute to building more robust and accurate predictive models.\n",
    "\n",
    "so we use Yeo-Jhonson transformer to stabilize variance and make the data more normally distributed."
   ]
  },
  {
   "cell_type": "code",
   "execution_count": null,
   "metadata": {},
   "outputs": [],
   "source": [
    "# Example code\n",
    "\n",
    "from sklearn.preprocessing import PowerTransformer\n",
    "\n",
    "def yeo_johnson_transform_skewed_features(data_path, skew_threshold=0.75):\n",
    "    data = pd.read_parquet(data_path)\n",
    "    numeric_cols = data.select_dtypes(\n",
    "        include=[\"float64\", \"float32\", \"int64\", \"int32\"]\n",
    "    ).columns\n",
    "    numeric_cols = [col for col in numeric_cols if col != \"account_number\"]\n",
    "    \n",
    "    skewed_features = data[numeric_cols].apply(lambda x: x.skew()).abs()\n",
    "    skewed_cols = skewed_features[skewed_features > skew_threshold].index\n",
    "\n",
    "    print(f\"***Applying Yeo-Johnson transformation to {len(skewed_cols)} skewed features***\")\n",
    "\n",
    "    transformer = PowerTransformer(method='yeo-johnson')\n",
    "    data[skewed_cols] = transformer.fit_transform(data[skewed_cols])\n",
    "\n",
    "    data.to_parquet(data_path, index=False)\n",
    "    print(f\"***Yeo-Johnson transformation applied and saved to {data_path}***\")\n"
   ]
  },
  {
   "cell_type": "markdown",
   "metadata": {},
   "source": [
    "Now, for addressing class imbalance in datasets, particularly in binary classification tasks, the SMOTE-Tomek resampling method can be highly beneficial.\n",
    "SMOTE (Synthetic Minority Over-sampling Technique) generates synthetic samples for the minority class, while Tomek links help identify and remove overlapping instances between classes. \n"
   ]
  },
  {
   "cell_type": "code",
   "execution_count": 1,
   "metadata": {},
   "outputs": [],
   "source": [
    "# Example code\n",
    "\n",
    "def resample_training_data(data_path, target_column):\n",
    "    \"\"\"\n",
    "    Load a training dataset from a Parquet file, perform SMOTE-Tomek resampling,\n",
    "    and save the resampled dataset as a Parquet file.\n",
    "    \"\"\"\n",
    "    data = pd.read_parquet(data_path)\n",
    "    print(f\"Loaded training data with shape: {data.shape}\")\n",
    "\n",
    "    X = data.drop(columns=[target_column])\n",
    "    y = data[target_column]\n",
    "\n",
    "    if y.nunique() != 2:\n",
    "        raise ValueError(\n",
    "            \"Target column must contain exactly two unique values for binary classification.\"\n",
    "        )\n",
    "\n",
    "    if y.dtype not in [\"int64\", \"int32\", \"category\"]:\n",
    "        print(\"Converting continuous target to binary classes\")\n",
    "        y = y.astype(\"int\")\n",
    "\n",
    "    smote_tomek = SMOTETomek(random_state=42)\n",
    "    print(\"Performing SMOTE-Tomek resampling...\")\n",
    "    X_resampled, y_resampled = smote_tomek.fit_resample(X, y)\n",
    "\n",
    "    resampled_data = pd.concat(\n",
    "        [\n",
    "            pd.DataFrame(X_resampled, columns=X.columns),\n",
    "            pd.DataFrame(y_resampled, columns=[target_column]),\n",
    "        ],\n",
    "        axis=1,\n",
    "    )\n",
    "\n",
    "    print(f\"Resampled data shape: {resampled_data.shape}\")\n",
    "\n",
    "    resampled_data.to_parquet(data_path, index=False)\n",
    "    print(f\"***Resampled data saved to: {data_path}***\")\n",
    "    "
   ]
  }
 ],
 "metadata": {
  "kernelspec": {
   "display_name": "DL_pytorch",
   "language": "python",
   "name": "python3"
  },
  "language_info": {
   "codemirror_mode": {
    "name": "ipython",
    "version": 3
   },
   "file_extension": ".py",
   "mimetype": "text/x-python",
   "name": "python",
   "nbconvert_exporter": "python",
   "pygments_lexer": "ipython3",
   "version": "3.12.8"
  }
 },
 "nbformat": 4,
 "nbformat_minor": 2
}
